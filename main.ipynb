{
 "cells": [
  {
   "cell_type": "code",
   "execution_count": 74,
   "id": "272f05c7",
   "metadata": {},
   "outputs": [
    {
     "ename": "ModuleNotFoundError",
     "evalue": "No module named 'catboost'",
     "output_type": "error",
     "traceback": [
      "\u001b[31m---------------------------------------------------------------------------\u001b[39m",
      "\u001b[31mModuleNotFoundError\u001b[39m                       Traceback (most recent call last)",
      "\u001b[36mCell\u001b[39m\u001b[36m \u001b[39m\u001b[32mIn[74]\u001b[39m\u001b[32m, line 19\u001b[39m\n\u001b[32m     16\u001b[39m \u001b[38;5;28;01mfrom\u001b[39;00m\u001b[38;5;250m \u001b[39m\u001b[34;01msklearn\u001b[39;00m\u001b[34;01m.\u001b[39;00m\u001b[34;01mmetrics\u001b[39;00m\u001b[38;5;250m \u001b[39m\u001b[38;5;28;01mimport\u001b[39;00m mean_absolute_error, mean_squared_error, r2_score\n\u001b[32m     18\u001b[39m \u001b[38;5;66;03m# Импорт CatBoostRegressor (убедитесь, что catboost установлен: pip install catboost)\u001b[39;00m\n\u001b[32m---> \u001b[39m\u001b[32m19\u001b[39m \u001b[38;5;28;01mfrom\u001b[39;00m\u001b[38;5;250m \u001b[39m\u001b[34;01mcatboost\u001b[39;00m\u001b[38;5;250m \u001b[39m\u001b[38;5;28;01mimport\u001b[39;00m CatBoostRegressor\n",
      "\u001b[31mModuleNotFoundError\u001b[39m: No module named 'catboost'"
     ]
    }
   ],
   "source": [
    "# ============== 1. Импорт необходимых библиотек ==============\n",
    "import pandas as pd\n",
    "import numpy as np\n",
    "import matplotlib.pyplot as plt\n",
    "import seaborn as sns\n",
    "import re\n",
    "import joblib\n",
    "\n",
    "from sklearn.model_selection import train_test_split, GridSearchCV\n",
    "from sklearn.pipeline import Pipeline, make_pipeline\n",
    "from sklearn.compose import ColumnTransformer\n",
    "from sklearn.impute import SimpleImputer\n",
    "from sklearn.preprocessing import StandardScaler, OrdinalEncoder, FunctionTransformer\n",
    "from sklearn.feature_extraction.text import TfidfVectorizer\n",
    "from sklearn.decomposition import TruncatedSVD\n",
    "from sklearn.metrics import mean_absolute_error, mean_squared_error, r2_score\n",
    "\n",
    "# Импорт CatBoostRegressor (убедитесь, что catboost установлен: pip install catboost)\n",
    "from catboost import CatBoostRegressor"
   ]
  },
  {
   "cell_type": "code",
   "execution_count": null,
   "id": "4750d117",
   "metadata": {},
   "outputs": [],
   "source": [
    "# ============== 2. Функции для предобработки данных ==============\n",
    "def extract_numeric(text):\n",
    "    \"\"\"Извлекает число из строки, например, '142 min' -> 142.\"\"\"\n",
    "    m = re.search(r'\\d+', str(text))\n",
    "    return float(m.group()) if m else np.nan\n",
    "\n",
    "def clean_budget(x):\n",
    "    \"\"\"Извлекает число из строки бюджета (например, '$150,000,000').\"\"\"\n",
    "    if pd.isnull(x):\n",
    "        return np.nan\n",
    "    cleaned = re.sub(r'[^\\d]', '', str(x))\n",
    "    return float(cleaned) if cleaned != \"\" else np.nan\n",
    "\n",
    "def clean_votes(x):\n",
    "    \"\"\"Извлекает число из строки голосов (например, '1,234,567').\"\"\"\n",
    "    if pd.isnull(x):\n",
    "        return np.nan\n",
    "    cleaned = re.sub(r'[^\\d]', '', str(x))\n",
    "    return float(cleaned) if cleaned != \"\" else np.nan\n",
    "\n",
    "def mean_absolute_percentage_error(y_true, y_pred, eps=1e-10):\n",
    "    \"\"\"Вычисляет MAPE с защитой от деления на ноль.\"\"\"\n",
    "    return np.mean(np.abs((y_true - y_pred) / (y_true + eps))) * 100"
   ]
  },
  {
   "cell_type": "code",
   "execution_count": null,
   "id": "bc0e4171",
   "metadata": {},
   "outputs": [],
   "source": [
    "# Определяем именованную функцию-идентичность вместо lambda\n",
    "def identity_func(x):\n",
    "    return x"
   ]
  },
  {
   "cell_type": "code",
   "execution_count": null,
   "id": "cb1a7d0a",
   "metadata": {},
   "outputs": [],
   "source": [
    "\n",
    "# ============== 3. Загрузка и первоначальная предобработка данных ==============\n",
    "df = pd.read_excel(\"imdb_top_1000.xlsx\")\n",
    "print(\"Столбцы в датасете:\", df.columns.tolist())\n",
    "# Ожидаемые столбцы: ['Name', 'Released_Year', 'IMDB_Rating', 'Runtime', 'Genre',\n",
    "# 'Overview', 'Rating', 'Director', 'Star1', 'Star2', 'Star3', 'Star4', 'No_of_Votes', 'Movie_Budget']\n",
    "\n",
    "# Приводим столбцы с категориальными признаками к строковому типу\n",
    "df[\"IMDB_Rating\"] = df[\"IMDB_Rating\"].astype(str)\n",
    "df[\"Director\"] = df[\"Director\"].astype(str)\n",
    "\n",
    "# Извлекаем числовые признаки\n",
    "df[\"Runtime_num\"] = df[\"Runtime\"].apply(extract_numeric)\n",
    "df[\"Movie_Budget_num\"] = df[\"Movie_Budget\"].apply(clean_budget)\n",
    "df[\"No_of_Votes_num\"] = df[\"No_of_Votes\"].apply(clean_votes)\n",
    "df[\"Released_Year\"] = pd.to_numeric(df[\"Released_Year\"], errors=\"coerce\")\n",
    "\n",
    "# Объединяем текст: Overview + Genre\n",
    "df[\"combined_text\"] = df[\"Overview\"].fillna('') + \" \" + df[\"Genre\"].fillna('')\n",
    "\n",
    "# Дополнительные признаки: длина описания и количество жанров\n",
    "df[\"overview_length\"] = df[\"Overview\"].fillna('').apply(lambda x: len(x.split()))\n",
    "df[\"num_genres\"] = df[\"Genre\"].fillna('').apply(lambda x: len(x.split(',')))\n",
    "\n",
    "# Ограничиваем категорию Director: оставляем топ-20, остальные заменяем на 'Other'\n",
    "top_directors = df[\"Director\"].value_counts().nlargest(20).index\n",
    "df[\"Director_clean\"] = df[\"Director\"].where(df[\"Director\"].isin(top_directors), other=\"Other\")\n",
    "\n",
    "# Удаляем строки с пропусками в ключевых столбцах\n",
    "key_cols = [\"Rating\", \"Runtime_num\", \"Movie_Budget_num\", \"No_of_Votes_num\",\n",
    "            \"Released_Year\", \"combined_text\", \"Director_clean\", \"IMDB_Rating\"]\n",
    "df_model = df.dropna(subset=key_cols).copy()\n",
    "print(\"Размер выборки после dropna:\", df_model.shape)\n",
    "\n",
    "# Приводим столбец Rating к числовому типу\n",
    "df_model[\"Rating\"] = pd.to_numeric(df_model[\"Rating\"], errors=\"coerce\")\n",
    "# Фильтруем строки, где Rating == 0, чтобы исключить нули из выборки\n",
    "df_model = df_model[df_model[\"Rating\"] != 0].copy()\n",
    "print(\"Размер выборки после удаления нулевых значений Rating:\", df_model.shape)"
   ]
  },
  {
   "cell_type": "code",
   "execution_count": null,
   "id": "5e624ef6",
   "metadata": {},
   "outputs": [],
   "source": [
    "# ============== 4. Формирование обучающей выборки ==============\n",
    "features = [\n",
    "    \"combined_text\",         # Текст: объединение Overview и Genre\n",
    "    \"Released_Year\",         # Год выпуска\n",
    "    \"Runtime_num\",           # Продолжительность\n",
    "    \"Movie_Budget_num\",      # Бюджет\n",
    "    \"No_of_Votes_num\",       # Количество голосов\n",
    "    \"Director_clean\",        # Режиссёр (топ-20)\n",
    "    \"IMDB_Rating\",           # IMDb_Rating (категория)\n",
    "    \"overview_length\",       # Длина описания\n",
    "    \"num_genres\"             # Количество жанров\n",
    "]\n",
    "target = \"Rating\"\n",
    "\n",
    "X = df_model[features]\n",
    "y = df_model[target]\n",
    "\n",
    "# Разбиваем выборку на обучающую и тестовую (80/20)\n",
    "X_train, X_test, y_train, y_test = train_test_split(X, y, test_size=0.2, random_state=42)\n",
    "print(\"X_train:\", X_train.shape, \"X_test:\", X_test.shape)"
   ]
  },
  {
   "cell_type": "code",
   "execution_count": null,
   "id": "fdc0f626",
   "metadata": {},
   "outputs": [],
   "source": [
    "\n",
    "\n",
    "\n",
    "# ============== 5. Построение пайплайна предобработки ==============\n",
    "# Текстовый пайплайн: TfidfVectorizer -> TruncatedSVD (для разреженной матрицы)\n",
    "text_pipeline = Pipeline([\n",
    "    (\"tfidf\", TfidfVectorizer(max_features=2000, stop_words=\"english\", ngram_range=(1,3))),\n",
    "    (\"svd\", TruncatedSVD(n_components=50, random_state=42))\n",
    "])\n",
    "\n",
    "# Числовой пайплайн: SimpleImputer + StandardScaler\n",
    "num_features = [\"Released_Year\", \"Runtime_num\", \"Movie_Budget_num\", \"No_of_Votes_num\", \"overview_length\", \"num_genres\"]\n",
    "num_pipeline = Pipeline([\n",
    "    (\"impute\", SimpleImputer(strategy=\"median\")),\n",
    "    (\"scale\", StandardScaler())\n",
    "])\n",
    "\n",
    "# Категориальные признаки: используем FunctionTransformer с именованной функцией identity_func\n",
    "cat_features = [\"Director_clean\", \"IMDB_Rating\"]\n",
    "cat_pipeline = Pipeline([\n",
    "    (\"passthrough\", FunctionTransformer(identity_func, validate=False))\n",
    "])\n",
    "\n",
    "# Объединяем всё через ColumnTransformer:\n",
    "# Текст: 50 признаков, Числовые: 6 признаков, Категориальные: 2 признака\n",
    "preprocessor = ColumnTransformer(\n",
    "    transformers=[\n",
    "        (\"text\", text_pipeline, \"combined_text\"),\n",
    "        (\"num\", num_pipeline, num_features),\n",
    "        (\"cat\", cat_pipeline, cat_features)\n",
    "    ],\n",
    "    sparse_threshold=0\n",
    ")\n"
   ]
  },
  {
   "cell_type": "code",
   "execution_count": null,
   "id": "523b9834",
   "metadata": {},
   "outputs": [],
   "source": [
    "# ============== 6. Преобразование в DataFrame после ColumnTransformer ==============\n",
    "from sklearn.base import TransformerMixin, BaseEstimator\n",
    "\n",
    "class ToDataFrame(TransformerMixin, BaseEstimator):\n",
    "    def __init__(self, text_features_len, num_features, cat_features):\n",
    "        self.text_features_len = text_features_len  # например, 50\n",
    "        self.num_features = num_features\n",
    "        self.cat_features = cat_features\n",
    "    def fit(self, X, y=None):\n",
    "        return self\n",
    "    def transform(self, X):\n",
    "        n_text = self.text_features_len\n",
    "        n_num = len(self.num_features)\n",
    "        n_cat = len(self.cat_features)\n",
    "        text_cols = [f\"text_{i}\" for i in range(n_text)]\n",
    "        num_cols = self.num_features\n",
    "        cat_cols = self.cat_features\n",
    "        columns = text_cols + num_cols + cat_cols\n",
    "        df_out = pd.DataFrame(X, columns=columns)\n",
    "        # Приводим категориальные столбцы к строковому типу\n",
    "        for col in cat_cols:\n",
    "            df_out[col] = df_out[col].astype(str)\n",
    "        return df_out\n",
    "\n",
    "full_preprocessor = Pipeline([\n",
    "    (\"preproc\", preprocessor),\n",
    "    (\"to_df\", ToDataFrame(text_features_len=50, num_features=num_features, cat_features=cat_features))\n",
    "])\n"
   ]
  },
  {
   "cell_type": "code",
   "execution_count": null,
   "id": "83baf8d8",
   "metadata": {},
   "outputs": [],
   "source": [
    "\n",
    "# ============== 7. Построение модели ==============\n",
    "# Определяем имена столбцов категориальных признаков (как они будут в DataFrame)\n",
    "cat_features_names = cat_features  # [\"Director_clean\", \"IMDB_Rating\"]\n",
    "\n",
    "# Инициализируем CatBoostRegressor. Если DataFrame передан, можно указать имена категориальных столбцов.\n",
    "catboost_model = CatBoostRegressor(\n",
    "    iterations=500,\n",
    "    depth=6,\n",
    "    learning_rate=0.05,\n",
    "    random_seed=42,\n",
    "    verbose=0\n",
    ")\n",
    "\n",
    "# Обертка для CatBoost для передачи категориальных столбцов по именам\n",
    "from sklearn.base import BaseEstimator, RegressorMixin\n",
    "\n",
    "class CatBoostWrapper(BaseEstimator, RegressorMixin):\n",
    "\n",
    "    def __init__(self, model, cat_features, lower_bound=1.0, upper_bound=10.0):\n",
    "        self.model = model\n",
    "        self.cat_features = cat_features\n",
    "        self.lower_bound = lower_bound  # Минимальное значение — 1.0\n",
    "        self.upper_bound = upper_bound\n",
    "        \n",
    "    def fit(self, X, y):\n",
    "        # Обучаем модель; y уже должен быть числовым\n",
    "        self.model.fit(X, y, cat_features=self.cat_features)\n",
    "        return self\n",
    "        \n",
    "    def predict(self, X):\n",
    "        preds = self.model.predict(X)\n",
    "        preds = np.array(preds, dtype=float)\n",
    "        # Стандартное ограничение с помощью np.clip\n",
    "        preds = np.clip(preds, self.lower_bound, self.upper_bound)\n",
    "        # Дополнительная защита: если вдруг значение меньше lower_bound — устанавливаем lower_bound\n",
    "        preds[preds < self.lower_bound] = self.lower_bound\n",
    "        return preds\n",
    "        \n",
    "    def set_params(self, **params):\n",
    "        self.model.set_params(**params)\n",
    "        return self\n",
    "\n",
    "wrapped_catboost = CatBoostWrapper(catboost_model, cat_features=cat_features_names)"
   ]
  },
  {
   "cell_type": "code",
   "execution_count": null,
   "id": "ed8f6a73",
   "metadata": {},
   "outputs": [],
   "source": [
    "# ============== 8. Собираем общий пайплайн ==============\n",
    "mega_pipeline = Pipeline([\n",
    "    (\"full_preprocessor\", full_preprocessor),\n",
    "    (\"regressor\", wrapped_catboost)\n",
    "])"
   ]
  },
  {
   "cell_type": "code",
   "execution_count": null,
   "id": "a6928c03",
   "metadata": {},
   "outputs": [],
   "source": [
    "\n",
    "# ============== 9. Обучение модели ==============\n",
    "mega_pipeline.fit(X_train, y_train)\n",
    "y_pred = mega_pipeline.predict(X_test)\n",
    "\n",
    "# Дополнительно: защита предсказаний (на случай, если что-то просочится)\n",
    "y_pred = np.maximum(np.array(y_pred, dtype=float), 1.0)"
   ]
  },
  {
   "cell_type": "code",
   "execution_count": null,
   "id": "d22b41ba",
   "metadata": {},
   "outputs": [],
   "source": [
    "# ============== 10. Вычисление метрик ==============\n",
    "mae = mean_absolute_error(y_test, y_pred)\n",
    "mse = mean_squared_error(y_test, y_pred)\n",
    "rmse = np.sqrt(mse)\n",
    "r2 = r2_score(y_test, y_pred)\n",
    "mape = mean_absolute_percentage_error(y_test, y_pred)\n",
    "\n",
    "print(f\"R2 на тесте = {r2:.3f}\")\n",
    "print(f\"MSE на тесте = {mse:.3f}\")\n",
    "print(f\"RMSE = {rmse:.3f}\")\n",
    "print(f\"MAPE = {mape:.3f}\")"
   ]
  },
  {
   "cell_type": "code",
   "execution_count": null,
   "id": "6640ebfa",
   "metadata": {},
   "outputs": [],
   "source": [
    "# ============== 11. Визуализация результатов ==============\n",
    "plt.figure(figsize=(8, 6))\n",
    "sns.scatterplot(x=y_test.values, y=y_pred)\n",
    "plt.plot([y.min(), y.max()], [y.min(), y.max()], '--r')\n",
    "plt.xlabel(\"Настоящий рейтинг\")\n",
    "plt.ylabel(\"Предсказанный рейтинг\")\n",
    "plt.title(\"Actual vs Predicted Ratings\")\n",
    "plt.grid(True)\n",
    "plt.show()"
   ]
  },
  {
   "cell_type": "code",
   "execution_count": null,
   "id": "3183b2d2",
   "metadata": {},
   "outputs": [],
   "source": [
    "# ============== 12. Сохранение модели ==============\n",
    "model_filename = \"best_movie_rating_mega_model.pkl\"\n",
    "joblib.dump(mega_pipeline, model_filename)\n",
    "print(f\"Модель сохранена в файл {model_filename}\")"
   ]
  },
  {
   "cell_type": "code",
   "execution_count": null,
   "id": "096d6cef",
   "metadata": {},
   "outputs": [
    {
     "name": "stdout",
     "output_type": "stream",
     "text": [
      "Fitting 3 folds for each of 6 candidates, totalling 18 fits\n"
     ]
    },
    {
     "ename": "KeyboardInterrupt",
     "evalue": "",
     "output_type": "error",
     "traceback": [
      "\u001b[31m---------------------------------------------------------------------------\u001b[39m",
      "\u001b[31mKeyboardInterrupt\u001b[39m                         Traceback (most recent call last)",
      "\u001b[36mCell\u001b[39m\u001b[36m \u001b[39m\u001b[32mIn[73]\u001b[39m\u001b[32m, line 2\u001b[39m\n\u001b[32m      1\u001b[39m \u001b[38;5;66;03m# Обучение\u001b[39;00m\n\u001b[32m----> \u001b[39m\u001b[32m2\u001b[39m \u001b[43mgrid_search\u001b[49m\u001b[43m.\u001b[49m\u001b[43mfit\u001b[49m\u001b[43m(\u001b[49m\u001b[43mX_train\u001b[49m\u001b[43m,\u001b[49m\u001b[43m \u001b[49m\u001b[43my_train\u001b[49m\u001b[43m)\u001b[49m\n",
      "\u001b[36mFile \u001b[39m\u001b[32mc:\\Users\\skoro\\Downloads\\Movies_rate_model\\.venv\\Lib\\site-packages\\sklearn\\base.py:1389\u001b[39m, in \u001b[36m_fit_context.<locals>.decorator.<locals>.wrapper\u001b[39m\u001b[34m(estimator, *args, **kwargs)\u001b[39m\n\u001b[32m   1382\u001b[39m     estimator._validate_params()\n\u001b[32m   1384\u001b[39m \u001b[38;5;28;01mwith\u001b[39;00m config_context(\n\u001b[32m   1385\u001b[39m     skip_parameter_validation=(\n\u001b[32m   1386\u001b[39m         prefer_skip_nested_validation \u001b[38;5;129;01mor\u001b[39;00m global_skip_validation\n\u001b[32m   1387\u001b[39m     )\n\u001b[32m   1388\u001b[39m ):\n\u001b[32m-> \u001b[39m\u001b[32m1389\u001b[39m     \u001b[38;5;28;01mreturn\u001b[39;00m \u001b[43mfit_method\u001b[49m\u001b[43m(\u001b[49m\u001b[43mestimator\u001b[49m\u001b[43m,\u001b[49m\u001b[43m \u001b[49m\u001b[43m*\u001b[49m\u001b[43margs\u001b[49m\u001b[43m,\u001b[49m\u001b[43m \u001b[49m\u001b[43m*\u001b[49m\u001b[43m*\u001b[49m\u001b[43mkwargs\u001b[49m\u001b[43m)\u001b[49m\n",
      "\u001b[36mFile \u001b[39m\u001b[32mc:\\Users\\skoro\\Downloads\\Movies_rate_model\\.venv\\Lib\\site-packages\\sklearn\\model_selection\\_search.py:1024\u001b[39m, in \u001b[36mBaseSearchCV.fit\u001b[39m\u001b[34m(self, X, y, **params)\u001b[39m\n\u001b[32m   1018\u001b[39m     results = \u001b[38;5;28mself\u001b[39m._format_results(\n\u001b[32m   1019\u001b[39m         all_candidate_params, n_splits, all_out, all_more_results\n\u001b[32m   1020\u001b[39m     )\n\u001b[32m   1022\u001b[39m     \u001b[38;5;28;01mreturn\u001b[39;00m results\n\u001b[32m-> \u001b[39m\u001b[32m1024\u001b[39m \u001b[38;5;28;43mself\u001b[39;49m\u001b[43m.\u001b[49m\u001b[43m_run_search\u001b[49m\u001b[43m(\u001b[49m\u001b[43mevaluate_candidates\u001b[49m\u001b[43m)\u001b[49m\n\u001b[32m   1026\u001b[39m \u001b[38;5;66;03m# multimetric is determined here because in the case of a callable\u001b[39;00m\n\u001b[32m   1027\u001b[39m \u001b[38;5;66;03m# self.scoring the return type is only known after calling\u001b[39;00m\n\u001b[32m   1028\u001b[39m first_test_score = all_out[\u001b[32m0\u001b[39m][\u001b[33m\"\u001b[39m\u001b[33mtest_scores\u001b[39m\u001b[33m\"\u001b[39m]\n",
      "\u001b[36mFile \u001b[39m\u001b[32mc:\\Users\\skoro\\Downloads\\Movies_rate_model\\.venv\\Lib\\site-packages\\sklearn\\model_selection\\_search.py:1571\u001b[39m, in \u001b[36mGridSearchCV._run_search\u001b[39m\u001b[34m(self, evaluate_candidates)\u001b[39m\n\u001b[32m   1569\u001b[39m \u001b[38;5;28;01mdef\u001b[39;00m\u001b[38;5;250m \u001b[39m\u001b[34m_run_search\u001b[39m(\u001b[38;5;28mself\u001b[39m, evaluate_candidates):\n\u001b[32m   1570\u001b[39m \u001b[38;5;250m    \u001b[39m\u001b[33;03m\"\"\"Search all candidates in param_grid\"\"\"\u001b[39;00m\n\u001b[32m-> \u001b[39m\u001b[32m1571\u001b[39m     \u001b[43mevaluate_candidates\u001b[49m\u001b[43m(\u001b[49m\u001b[43mParameterGrid\u001b[49m\u001b[43m(\u001b[49m\u001b[38;5;28;43mself\u001b[39;49m\u001b[43m.\u001b[49m\u001b[43mparam_grid\u001b[49m\u001b[43m)\u001b[49m\u001b[43m)\u001b[49m\n",
      "\u001b[36mFile \u001b[39m\u001b[32mc:\\Users\\skoro\\Downloads\\Movies_rate_model\\.venv\\Lib\\site-packages\\sklearn\\model_selection\\_search.py:970\u001b[39m, in \u001b[36mBaseSearchCV.fit.<locals>.evaluate_candidates\u001b[39m\u001b[34m(candidate_params, cv, more_results)\u001b[39m\n\u001b[32m    962\u001b[39m \u001b[38;5;28;01mif\u001b[39;00m \u001b[38;5;28mself\u001b[39m.verbose > \u001b[32m0\u001b[39m:\n\u001b[32m    963\u001b[39m     \u001b[38;5;28mprint\u001b[39m(\n\u001b[32m    964\u001b[39m         \u001b[33m\"\u001b[39m\u001b[33mFitting \u001b[39m\u001b[38;5;132;01m{0}\u001b[39;00m\u001b[33m folds for each of \u001b[39m\u001b[38;5;132;01m{1}\u001b[39;00m\u001b[33m candidates,\u001b[39m\u001b[33m\"\u001b[39m\n\u001b[32m    965\u001b[39m         \u001b[33m\"\u001b[39m\u001b[33m totalling \u001b[39m\u001b[38;5;132;01m{2}\u001b[39;00m\u001b[33m fits\u001b[39m\u001b[33m\"\u001b[39m.format(\n\u001b[32m    966\u001b[39m             n_splits, n_candidates, n_candidates * n_splits\n\u001b[32m    967\u001b[39m         )\n\u001b[32m    968\u001b[39m     )\n\u001b[32m--> \u001b[39m\u001b[32m970\u001b[39m out = \u001b[43mparallel\u001b[49m\u001b[43m(\u001b[49m\n\u001b[32m    971\u001b[39m \u001b[43m    \u001b[49m\u001b[43mdelayed\u001b[49m\u001b[43m(\u001b[49m\u001b[43m_fit_and_score\u001b[49m\u001b[43m)\u001b[49m\u001b[43m(\u001b[49m\n\u001b[32m    972\u001b[39m \u001b[43m        \u001b[49m\u001b[43mclone\u001b[49m\u001b[43m(\u001b[49m\u001b[43mbase_estimator\u001b[49m\u001b[43m)\u001b[49m\u001b[43m,\u001b[49m\n\u001b[32m    973\u001b[39m \u001b[43m        \u001b[49m\u001b[43mX\u001b[49m\u001b[43m,\u001b[49m\n\u001b[32m    974\u001b[39m \u001b[43m        \u001b[49m\u001b[43my\u001b[49m\u001b[43m,\u001b[49m\n\u001b[32m    975\u001b[39m \u001b[43m        \u001b[49m\u001b[43mtrain\u001b[49m\u001b[43m=\u001b[49m\u001b[43mtrain\u001b[49m\u001b[43m,\u001b[49m\n\u001b[32m    976\u001b[39m \u001b[43m        \u001b[49m\u001b[43mtest\u001b[49m\u001b[43m=\u001b[49m\u001b[43mtest\u001b[49m\u001b[43m,\u001b[49m\n\u001b[32m    977\u001b[39m \u001b[43m        \u001b[49m\u001b[43mparameters\u001b[49m\u001b[43m=\u001b[49m\u001b[43mparameters\u001b[49m\u001b[43m,\u001b[49m\n\u001b[32m    978\u001b[39m \u001b[43m        \u001b[49m\u001b[43msplit_progress\u001b[49m\u001b[43m=\u001b[49m\u001b[43m(\u001b[49m\u001b[43msplit_idx\u001b[49m\u001b[43m,\u001b[49m\u001b[43m \u001b[49m\u001b[43mn_splits\u001b[49m\u001b[43m)\u001b[49m\u001b[43m,\u001b[49m\n\u001b[32m    979\u001b[39m \u001b[43m        \u001b[49m\u001b[43mcandidate_progress\u001b[49m\u001b[43m=\u001b[49m\u001b[43m(\u001b[49m\u001b[43mcand_idx\u001b[49m\u001b[43m,\u001b[49m\u001b[43m \u001b[49m\u001b[43mn_candidates\u001b[49m\u001b[43m)\u001b[49m\u001b[43m,\u001b[49m\n\u001b[32m    980\u001b[39m \u001b[43m        \u001b[49m\u001b[43m*\u001b[49m\u001b[43m*\u001b[49m\u001b[43mfit_and_score_kwargs\u001b[49m\u001b[43m,\u001b[49m\n\u001b[32m    981\u001b[39m \u001b[43m    \u001b[49m\u001b[43m)\u001b[49m\n\u001b[32m    982\u001b[39m \u001b[43m    \u001b[49m\u001b[38;5;28;43;01mfor\u001b[39;49;00m\u001b[43m \u001b[49m\u001b[43m(\u001b[49m\u001b[43mcand_idx\u001b[49m\u001b[43m,\u001b[49m\u001b[43m \u001b[49m\u001b[43mparameters\u001b[49m\u001b[43m)\u001b[49m\u001b[43m,\u001b[49m\u001b[43m \u001b[49m\u001b[43m(\u001b[49m\u001b[43msplit_idx\u001b[49m\u001b[43m,\u001b[49m\u001b[43m \u001b[49m\u001b[43m(\u001b[49m\u001b[43mtrain\u001b[49m\u001b[43m,\u001b[49m\u001b[43m \u001b[49m\u001b[43mtest\u001b[49m\u001b[43m)\u001b[49m\u001b[43m)\u001b[49m\u001b[43m \u001b[49m\u001b[38;5;129;43;01min\u001b[39;49;00m\u001b[43m \u001b[49m\u001b[43mproduct\u001b[49m\u001b[43m(\u001b[49m\n\u001b[32m    983\u001b[39m \u001b[43m        \u001b[49m\u001b[38;5;28;43menumerate\u001b[39;49m\u001b[43m(\u001b[49m\u001b[43mcandidate_params\u001b[49m\u001b[43m)\u001b[49m\u001b[43m,\u001b[49m\n\u001b[32m    984\u001b[39m \u001b[43m        \u001b[49m\u001b[38;5;28;43menumerate\u001b[39;49m\u001b[43m(\u001b[49m\u001b[43mcv\u001b[49m\u001b[43m.\u001b[49m\u001b[43msplit\u001b[49m\u001b[43m(\u001b[49m\u001b[43mX\u001b[49m\u001b[43m,\u001b[49m\u001b[43m \u001b[49m\u001b[43my\u001b[49m\u001b[43m,\u001b[49m\u001b[43m \u001b[49m\u001b[43m*\u001b[49m\u001b[43m*\u001b[49m\u001b[43mrouted_params\u001b[49m\u001b[43m.\u001b[49m\u001b[43msplitter\u001b[49m\u001b[43m.\u001b[49m\u001b[43msplit\u001b[49m\u001b[43m)\u001b[49m\u001b[43m)\u001b[49m\u001b[43m,\u001b[49m\n\u001b[32m    985\u001b[39m \u001b[43m    \u001b[49m\u001b[43m)\u001b[49m\n\u001b[32m    986\u001b[39m \u001b[43m\u001b[49m\u001b[43m)\u001b[49m\n\u001b[32m    988\u001b[39m \u001b[38;5;28;01mif\u001b[39;00m \u001b[38;5;28mlen\u001b[39m(out) < \u001b[32m1\u001b[39m:\n\u001b[32m    989\u001b[39m     \u001b[38;5;28;01mraise\u001b[39;00m \u001b[38;5;167;01mValueError\u001b[39;00m(\n\u001b[32m    990\u001b[39m         \u001b[33m\"\u001b[39m\u001b[33mNo fits were performed. \u001b[39m\u001b[33m\"\u001b[39m\n\u001b[32m    991\u001b[39m         \u001b[33m\"\u001b[39m\u001b[33mWas the CV iterator empty? \u001b[39m\u001b[33m\"\u001b[39m\n\u001b[32m    992\u001b[39m         \u001b[33m\"\u001b[39m\u001b[33mWere there no candidates?\u001b[39m\u001b[33m\"\u001b[39m\n\u001b[32m    993\u001b[39m     )\n",
      "\u001b[36mFile \u001b[39m\u001b[32mc:\\Users\\skoro\\Downloads\\Movies_rate_model\\.venv\\Lib\\site-packages\\sklearn\\utils\\parallel.py:77\u001b[39m, in \u001b[36mParallel.__call__\u001b[39m\u001b[34m(self, iterable)\u001b[39m\n\u001b[32m     72\u001b[39m config = get_config()\n\u001b[32m     73\u001b[39m iterable_with_config = (\n\u001b[32m     74\u001b[39m     (_with_config(delayed_func, config), args, kwargs)\n\u001b[32m     75\u001b[39m     \u001b[38;5;28;01mfor\u001b[39;00m delayed_func, args, kwargs \u001b[38;5;129;01min\u001b[39;00m iterable\n\u001b[32m     76\u001b[39m )\n\u001b[32m---> \u001b[39m\u001b[32m77\u001b[39m \u001b[38;5;28;01mreturn\u001b[39;00m \u001b[38;5;28;43msuper\u001b[39;49m\u001b[43m(\u001b[49m\u001b[43m)\u001b[49m\u001b[43m.\u001b[49m\u001b[34;43m__call__\u001b[39;49m\u001b[43m(\u001b[49m\u001b[43miterable_with_config\u001b[49m\u001b[43m)\u001b[49m\n",
      "\u001b[36mFile \u001b[39m\u001b[32mc:\\Users\\skoro\\Downloads\\Movies_rate_model\\.venv\\Lib\\site-packages\\joblib\\parallel.py:2007\u001b[39m, in \u001b[36mParallel.__call__\u001b[39m\u001b[34m(self, iterable)\u001b[39m\n\u001b[32m   2001\u001b[39m \u001b[38;5;66;03m# The first item from the output is blank, but it makes the interpreter\u001b[39;00m\n\u001b[32m   2002\u001b[39m \u001b[38;5;66;03m# progress until it enters the Try/Except block of the generator and\u001b[39;00m\n\u001b[32m   2003\u001b[39m \u001b[38;5;66;03m# reaches the first `yield` statement. This starts the asynchronous\u001b[39;00m\n\u001b[32m   2004\u001b[39m \u001b[38;5;66;03m# dispatch of the tasks to the workers.\u001b[39;00m\n\u001b[32m   2005\u001b[39m \u001b[38;5;28mnext\u001b[39m(output)\n\u001b[32m-> \u001b[39m\u001b[32m2007\u001b[39m \u001b[38;5;28;01mreturn\u001b[39;00m output \u001b[38;5;28;01mif\u001b[39;00m \u001b[38;5;28mself\u001b[39m.return_generator \u001b[38;5;28;01melse\u001b[39;00m \u001b[38;5;28mlist\u001b[39m(output)\n",
      "\u001b[36mFile \u001b[39m\u001b[32mc:\\Users\\skoro\\Downloads\\Movies_rate_model\\.venv\\Lib\\site-packages\\joblib\\parallel.py:1650\u001b[39m, in \u001b[36mParallel._get_outputs\u001b[39m\u001b[34m(self, iterator, pre_dispatch)\u001b[39m\n\u001b[32m   1647\u001b[39m     \u001b[38;5;28;01myield\u001b[39;00m\n\u001b[32m   1649\u001b[39m     \u001b[38;5;28;01mwith\u001b[39;00m \u001b[38;5;28mself\u001b[39m._backend.retrieval_context():\n\u001b[32m-> \u001b[39m\u001b[32m1650\u001b[39m         \u001b[38;5;28;01myield from\u001b[39;00m \u001b[38;5;28mself\u001b[39m._retrieve()\n\u001b[32m   1652\u001b[39m \u001b[38;5;28;01mexcept\u001b[39;00m \u001b[38;5;167;01mGeneratorExit\u001b[39;00m:\n\u001b[32m   1653\u001b[39m     \u001b[38;5;66;03m# The generator has been garbage collected before being fully\u001b[39;00m\n\u001b[32m   1654\u001b[39m     \u001b[38;5;66;03m# consumed. This aborts the remaining tasks if possible and warn\u001b[39;00m\n\u001b[32m   1655\u001b[39m     \u001b[38;5;66;03m# the user if necessary.\u001b[39;00m\n\u001b[32m   1656\u001b[39m     \u001b[38;5;28mself\u001b[39m._exception = \u001b[38;5;28;01mTrue\u001b[39;00m\n",
      "\u001b[36mFile \u001b[39m\u001b[32mc:\\Users\\skoro\\Downloads\\Movies_rate_model\\.venv\\Lib\\site-packages\\joblib\\parallel.py:1762\u001b[39m, in \u001b[36mParallel._retrieve\u001b[39m\u001b[34m(self)\u001b[39m\n\u001b[32m   1757\u001b[39m \u001b[38;5;66;03m# If the next job is not ready for retrieval yet, we just wait for\u001b[39;00m\n\u001b[32m   1758\u001b[39m \u001b[38;5;66;03m# async callbacks to progress.\u001b[39;00m\n\u001b[32m   1759\u001b[39m \u001b[38;5;28;01mif\u001b[39;00m ((\u001b[38;5;28mlen\u001b[39m(\u001b[38;5;28mself\u001b[39m._jobs) == \u001b[32m0\u001b[39m) \u001b[38;5;129;01mor\u001b[39;00m\n\u001b[32m   1760\u001b[39m     (\u001b[38;5;28mself\u001b[39m._jobs[\u001b[32m0\u001b[39m].get_status(\n\u001b[32m   1761\u001b[39m         timeout=\u001b[38;5;28mself\u001b[39m.timeout) == TASK_PENDING)):\n\u001b[32m-> \u001b[39m\u001b[32m1762\u001b[39m     time.sleep(\u001b[32m0.01\u001b[39m)\n\u001b[32m   1763\u001b[39m     \u001b[38;5;28;01mcontinue\u001b[39;00m\n\u001b[32m   1765\u001b[39m \u001b[38;5;66;03m# We need to be careful: the job list can be filling up as\u001b[39;00m\n\u001b[32m   1766\u001b[39m \u001b[38;5;66;03m# we empty it and Python list are not thread-safe by\u001b[39;00m\n\u001b[32m   1767\u001b[39m \u001b[38;5;66;03m# default hence the use of the lock\u001b[39;00m\n",
      "\u001b[31mKeyboardInterrupt\u001b[39m: "
     ]
    }
   ],
   "source": [
    "# ============== 13. Функция для предсказания на новых данных ==============\n",
    "def predict_rating(overview, genre, released_year, runtime, budget, votes, director, imdb_rating):\n",
    "    \"\"\"\n",
    "    Принимает входные данные:\n",
    "      - overview: описание фильма,\n",
    "      - genre: жанры,\n",
    "      - released_year: год выпуска (число),\n",
    "      - runtime: продолжительность (например, '142 min' или число),\n",
    "      - budget: бюджет (например, '$150,000,000' или число),\n",
    "      - votes: количество голосов (например, '1,234,567' или число),\n",
    "      - director: режиссёр,\n",
    "      - imdb_rating: категорийное значение IMDb_Rating (например, 'A', 'UA', 'U').\n",
    "    Если режиссёр не входит в топ-20, заменяется на 'Other'.\n",
    "    Возвращает предсказанный рейтинг.\n",
    "    \"\"\"\n",
    "    combined_text = str(overview) + \" \" + str(genre)\n",
    "    runtime_val = extract_numeric(runtime) if isinstance(runtime, str) else float(runtime)\n",
    "    budget_val = clean_budget(budget) if isinstance(budget, str) else float(budget)\n",
    "    votes_val = clean_votes(votes) if isinstance(votes, str) else float(votes)\n",
    "    director_val = director if director in top_directors else \"Other\"\n",
    "    \n",
    "    sample = pd.DataFrame([{\n",
    "        \"combined_text\": combined_text,\n",
    "        \"Released_Year\": released_year,\n",
    "        \"Runtime_num\": runtime_val,\n",
    "        \"Movie_Budget_num\": budget_val,\n",
    "        \"No_of_Votes_num\": votes_val,\n",
    "        \"Director_clean\": director_val,\n",
    "        \"IMDB_Rating\": str(imdb_rating),\n",
    "        \"overview_length\": len(str(overview).split()),\n",
    "        \"num_genres\": len(str(genre).split(','))\n",
    "    }])\n",
    "    \n",
    "    # Получаем предсказание и дополнительно гарантируем, что значение не ниже 1.0\n",
    "    prediction = mega_pipeline.predict(sample)[0]\n",
    "    prediction = max(float(prediction), 1.0)\n",
    "    return prediction\n",
    "\n",
    "# Пример вызова функции предсказания:\n",
    "pred_example = predict_rating(\n",
    "    overview=\"A futuristic odyssey of self-discovery and adventure.\",\n",
    "    genre=\"Sci-Fi, Adventure\",\n",
    "    released_year=2020,\n",
    "    runtime=\"130 min\",\n",
    "    budget=\"$80,000,000\",\n",
    "    votes=\"345,678\",\n",
    "    director=\"Christopher Nolan\",\n",
    "    imdb_rating=\"A\"\n",
    ")\n",
    "print(f\"Пример предсказания: {pred_example:.2f}\")\n"
   ]
  },
  {
   "cell_type": "code",
   "execution_count": null,
   "id": "38dbcb56",
   "metadata": {},
   "outputs": [
    {
     "name": "stdout",
     "output_type": "stream",
     "text": [
      "Лучшие параметры: {'regressor__final_estimator__alpha': 10.0, 'regressor__gbr__max_depth': 3}\n",
      "Лучший R2 на кросс-валидации: 0.15686232225356203\n",
      "R2 на тесте =  0.3143985723840782\n",
      "MSE на тесте = 6.583042381979991\n",
      "RMSE =  2.5657440211330496\n",
      "MAPE =  19.735681603355893\n"
     ]
    }
   ],
   "source": [
    "# Результаты\n",
    "print(\"Лучшие параметры:\", grid_search.best_params_)\n",
    "print(\"Лучший R2 на кросс-валидации:\", grid_search.best_score_)\n",
    "\n",
    "import math\n",
    "# Тестовая метрика\n",
    "y_pred = grid_search.predict(X_test)\n",
    "print(\"R2 на тесте = \", r2_score(y_test, y_pred))\n",
    "print(\"MSE на тесте =\", mean_squared_error(y_test, y_pred))\n",
    "print(\"RMSE = \", math.sqrt(mean_squared_error(y_test, y_pred)))\n",
    "\n",
    "# Убираем нули из y_test перед вычислением MAPE\n",
    "y_test_safe = np.where(y_test == 0, np.nan, y_test)  # заменяем нули на NaN\n",
    "y_pred_safe = y_pred[~np.isnan(y_test_safe)]  # удаляем строки с NaN в y_test\n",
    "y_test_safe = y_test_safe[~np.isnan(y_test_safe)]  # удаляем соответствующие строки в y_test\n",
    "\n",
    "# Теперь можно безопасно вычислить MAPE\n",
    "mape = np.mean(np.abs(y_test_safe - y_pred_safe) / y_test_safe) * 100\n",
    "print(\"MAPE = \", mape)"
   ]
  },
  {
   "cell_type": "code",
   "execution_count": null,
   "id": "bb3d0359",
   "metadata": {},
   "outputs": [
    {
     "name": "stdout",
     "output_type": "stream",
     "text": [
      "Столбцы в датасете: ['Name', 'Released_Year', 'IMDB_Rating', 'Runtime', 'Genre', 'Overview', 'Rating', 'Director', 'Star1', 'Star2', 'Star3', 'Star4', 'No_of_Votes', 'Movie_Budget']\n",
      "Размер выборки после dropna: (993, 19)\n",
      "X_train: (794, 7) X_test: (199, 7)\n",
      "Fitting 5 folds for each of 9 candidates, totalling 45 fits\n",
      "Лучшие параметры: {'regressor__final_estimator__alpha': 10.0, 'regressor__gbr__max_depth': 4}\n",
      "Лучший R2 на кросс-валидации: 0.12343502176238703\n",
      "R2 на тесте = 0.269\n",
      "MSE на тесте = 7.270\n",
      "RMSE = 2.696\n",
      "MAPE = 780184502552.765\n"
     ]
    },
    {
     "data": {
      "image/png": "[encoded data removed]",
      "text/plain": [
       "<Figure size 800x600 with 1 Axes>"
      ]
     },
     "metadata": {},
     "output_type": "display_data"
    },
    {
     "name": "stdout",
     "output_type": "stream",
     "text": [
      "Модель сохранена в файл best_movie_rating_model.pkl\n",
      "Пример предсказания: 7.47\n"
     ]
    }
   ],
   "source": []
  }
 ],
 "metadata": {
  "kernelspec": {
   "display_name": ".venv",
   "language": "python",
   "name": "python3"
  },
  "language_info": {
   "codemirror_mode": {
    "name": "ipython",
    "version": 3
   },
   "file_extension": ".py",
   "mimetype": "text/x-python",
   "name": "python",
   "nbconvert_exporter": "python",
   "pygments_lexer": "ipython3",
   "version": "3.11.9"
  }
 },
 "nbformat": 4,
 "nbformat_minor": 5
}
